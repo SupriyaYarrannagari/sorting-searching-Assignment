{
 "cells": [
  {
   "cell_type": "code",
   "execution_count": 4,
   "id": "93e07cef",
   "metadata": {},
   "outputs": [
    {
     "name": "stdout",
     "output_type": "stream",
     "text": [
      "intersection: [5]\n"
     ]
    }
   ],
   "source": [
    "#problem--1\n",
    "#Intersection of Two Sorted Arrays\n",
    "#Write a Python program to find the intersection of two sorted arrays.\n",
    "def intersection(arr1, arr2):\n",
    "    result = []\n",
    "    i, j = 0, 0\n",
    "    while i < len(arr1) and j < len(arr2):\n",
    "        if arr1[i] == arr2[j]:\n",
    "            result.append(arr1[i])\n",
    "            i += 1\n",
    "            j += 1\n",
    "        elif arr1[i] < arr2[j]:\n",
    "            i += 1\n",
    "        else:\n",
    "            j += 1\n",
    "    return result\n",
    "\n",
    "arr1 = [1, 3, 5, 7, 9]\n",
    "arr2 = [2, 4, 5, 8]\n",
    "\n",
    "print(\"intersection:\",intersection(arr1, arr2))"
   ]
  },
  {
   "cell_type": "code",
   "execution_count": 10,
   "id": "e206d342",
   "metadata": {},
   "outputs": [
    {
     "name": "stdout",
     "output_type": "stream",
     "text": [
      "7\n"
     ]
    }
   ],
   "source": [
    "#problem---2\n",
    "#Find the Kth Smallest Element\n",
    "#Write a Python function to find the kth smallest element in an unsorted list.\n",
    "import random \n",
    "def kth_smallest(nums,k):\n",
    "    if k < 1 or k > len(nums):\n",
    "        return None\n",
    "    pivot = random.choice(nums)\n",
    "    smaller=[x for x in nums if x < pivot]\n",
    "    if len(smaller) + 1 == k:\n",
    "        return pivot\n",
    "    elif len(smaller) >= k:\n",
    "        return kth_smallest(smaller, k)\n",
    "    else:\n",
    "        larger=[x for x in nums if x > pivot]\n",
    "        return kth_smallest(larger,k - len(smaller) - 1)\n",
    "nums=[12,3,1,7,8,20]\n",
    "print(kth_smallest(nums,3))"
   ]
  },
  {
   "cell_type": "code",
   "execution_count": 13,
   "id": "1a0da431",
   "metadata": {},
   "outputs": [
    {
     "name": "stdout",
     "output_type": "stream",
     "text": [
      "element 6 found at index 2\n"
     ]
    }
   ],
   "source": [
    "#problem--3\n",
    "#Binary Search in a Rotated Sorted Array\n",
    "#Implement a Python program to perform a binary search on a rotated sorted array.\n",
    "def binary_Search(arr,target):\n",
    "    left = 0\n",
    "    right = len(arr) - 1\n",
    "    while left <= right:\n",
    "        mid = (left + right) // 2\n",
    "        if arr[mid] == target:\n",
    "            return mid\n",
    "        if arr[left] <= arr[mid]:\n",
    "            if  target >= arr[left] and target < arr[mid]:\n",
    "                right = mid - 1\n",
    "            else:\n",
    "                left = mid + 1\n",
    "        else:\n",
    "            if target <= arr[right] and target > arr[mid]:\n",
    "                left = mid + 1\n",
    "            else:\n",
    "                right = mid -1\n",
    "    return -1\n",
    "arr = [4, 5, 6, 7, 8, 9, 1, 2, 3]\n",
    "target = 6\n",
    "result=binary_Search(arr,target)\n",
    "if result != -1:\n",
    "    print(\"element\",target,\"found at index\", str(result))\n",
    "else:\n",
    "    print(\"element not found in array\")\n"
   ]
  },
  {
   "cell_type": "code",
   "execution_count": 20,
   "id": "46775f31",
   "metadata": {},
   "outputs": [
    {
     "name": "stdout",
     "output_type": "stream",
     "text": [
      "element found at position: (1, 2)\n"
     ]
    }
   ],
   "source": [
    "#problem---4\n",
    "#Searching in a Matrix\n",
    "#Write a Python program that searches for a given element in a 2D matrix and returns its position.\n",
    "def search_matrix(matrix, element):\n",
    "    for i in range(len(matrix)):\n",
    "        for j in range(len(Matrix[0])):\n",
    "            if Matrix[i][j] == Element:\n",
    "                return i, j\n",
    "    return -1, -1\n",
    "Matrix = [\n",
    "    [1, 3, 5],\n",
    "    [7, 9, 11],\n",
    "    [13, 15, 17]\n",
    "]\n",
    "Element = 11\n",
    "position=search_matrix(Matrix, Element)\n",
    "if position[0] != -1:\n",
    "    print(\"element found at position:\",position)\n",
    "else:\n",
    "    print(\"element not found at position in matrix\")"
   ]
  },
  {
   "cell_type": "code",
   "execution_count": 21,
   "id": "a7fd4fdf",
   "metadata": {},
   "outputs": [
    {
     "name": "stdout",
     "output_type": "stream",
     "text": [
      "['kiwi', 'apple', 'grape', 'banana', 'orange']\n"
     ]
    }
   ],
   "source": [
    "#problem---5\n",
    "#Sorting Strings by Length\n",
    "#Write a Python program that takes a list of strings and sorts them based on their length.\n",
    "def sort_by_length(strings):\n",
    "    return sorted(strings, key=len)\n",
    "strings=['apple', 'banana', 'kiwi', 'orange', 'grape']\n",
    "print(sort_by_length(strings))"
   ]
  },
  {
   "cell_type": "code",
   "execution_count": 22,
   "id": "4e3cfe04",
   "metadata": {},
   "outputs": [
    {
     "name": "stdout",
     "output_type": "stream",
     "text": [
      "['kiwi', 'apple', 'grape', 'banana', 'orange']\n"
     ]
    }
   ],
   "source": [
    "def sort_by_length(strings):\n",
    "    return sorted(strings, key=len)\n",
    "strings=['apple', 'banana', 'kiwi', 'orange', 'grape']\n",
    "print(sort_by_length(strings))"
   ]
  },
  {
   "cell_type": "code",
   "execution_count": 23,
   "id": "6b0e278f",
   "metadata": {},
   "outputs": [
    {
     "name": "stdout",
     "output_type": "stream",
     "text": [
      "[1, 2, 3, 5, 7, 9]\n"
     ]
    }
   ],
   "source": [
    "#problem---6\n",
    "#Implementing the merge sort \n",
    "def merge_sort(arr):\n",
    "    if len(arr) <= 1:\n",
    "        return arr\n",
    "    mid = len(arr) // 2\n",
    "    left = merge_sort(arr[:mid])\n",
    "    right = merge_sort(arr[mid:])\n",
    "    return merge(left, right)\n",
    "def merge(left, right):\n",
    "    result = []\n",
    "    i = 0\n",
    "    j = 0\n",
    "    while i < len(left) and j < len(right):\n",
    "        if left[i] < right[j]:\n",
    "            result.append(left[i])\n",
    "            i += 1\n",
    "        else:\n",
    "            result.append(right[j])\n",
    "            j += 1\n",
    "    result += left[i:]\n",
    "    result += right[j:]\n",
    "    return result\n",
    "arr = [5, 2, 9, 3, 7, 1]\n",
    "print(merge_sort(arr))"
   ]
  },
  {
   "cell_type": "code",
   "execution_count": 30,
   "id": "3af20607",
   "metadata": {},
   "outputs": [
    {
     "name": "stdout",
     "output_type": "stream",
     "text": [
      "[2, 3, 5, 6, 7, 8]\n"
     ]
    }
   ],
   "source": [
    "#problem---7\n",
    "#mplementing the quick sort.\n",
    "def quicksort(arr):\n",
    "    if len(arr) <= 1:\n",
    "        return arr\n",
    "    pivot = arr[len(arr) // 2]\n",
    "    left = [x for x in arr if x < pivot]\n",
    "    middle = [x for x in arr if x == pivot] \n",
    "    right = [x for x in arr if x > pivot]\n",
    "    return quicksort(left) + middle + quicksort(right)\n",
    "arr = [6, 2, 5, 3, 8, 7]\n",
    "print(quicksort(arr))"
   ]
  },
  {
   "cell_type": "code",
   "execution_count": 32,
   "id": "0ca89fc2",
   "metadata": {},
   "outputs": [
    {
     "name": "stdout",
     "output_type": "stream",
     "text": [
      "[1, 2, 2, 5, 7, 9]\n"
     ]
    }
   ],
   "source": [
    "#problem--8\n",
    "#Implementing the count sort .\n",
    "def count_sort(arr):\n",
    "    max_val = max(arr)\n",
    "    count_arr = [0] * (max_val+1)\n",
    "    for i in arr:\n",
    "        count_arr[i] += 1\n",
    "        sorted_arr = []\n",
    "    for i in range(len(count_arr)):\n",
    "        for j in range(count_arr[i]):\n",
    "            sorted_arr.append(i)\n",
    "      \n",
    "    return sorted_arr\n",
    "arr = [5, 2, 9, 1, 2, 7]\n",
    "sorted_arr = count_sort(arr)\n",
    "print(sorted_arr)"
   ]
  },
  {
   "cell_type": "code",
   "execution_count": 33,
   "id": "191d5731",
   "metadata": {},
   "outputs": [
    {
     "name": "stdout",
     "output_type": "stream",
     "text": [
      "the peak element is: 20\n"
     ]
    }
   ],
   "source": [
    "#problem--9\n",
    "#Implement a Python function to find a peak element in an array. A peak element is an element that is greater than or equal to its neighbors.\n",
    "def findpeak(arr):\n",
    "    n = len(arr)\n",
    "    if n == 1:\n",
    "        return arr[0]\n",
    "    if arr[0] >= arr[1]:\n",
    "        return arr[0]\n",
    "    if arr[n-1] >= arr[n-2]:\n",
    "        return arr[n-1]\n",
    "    for i in range(1, n-1):\n",
    "        if arr[i] >= arr[i-1] and arr[i] >= arr[i+1]:\n",
    "            return arr[i]\n",
    "arr=[1, 3, 20, 4, 1, 0]\n",
    "print(\"the peak element is:\",findpeak(arr))"
   ]
  },
  {
   "cell_type": "code",
   "execution_count": null,
   "id": "6b6cad75",
   "metadata": {},
   "outputs": [],
   "source": [
    "#problem---10\n",
    "#Search in a Nearly Sorted Array\n",
    "#Implement a Python program to perform a binary search in a nearly sorted array. In a nearly sorted array, each element is at most k positions away from its sorted position.\n",
    "def binary_search(arr, key, k):\n",
    "    start = 0\n",
    "    end = len(arr) - 1\n",
    "    while start <= end:\n",
    "        mid = start + (end-start)// 2\n",
    "        if arr[mid] == key:\n",
    "            return mid\n",
    "        left = max(mid - k, start)\n",
    "        right = min(mid + k, end)\n",
    "        if key >= arr[left] and key <= arr[right]:\n",
    "            start = left\n",
    "            end = right\n",
    "        elif key <= arr[left]:\n",
    "            end = mid - 1\n",
    "        else:\n",
    "            start = mid + 1\n",
    "    return -1\n",
    "arr = [2, 3, 4, 1, 5, 7, 6, 8]\n",
    "key = 5\n",
    "k = 1\n",
    "result = binary_search(arr, key, k)\n",
    "if result != -1:\n",
    "    print(\"Element found at index:\",result)\n",
    "else:\n",
    "    print(\"Element not found \")\n"
   ]
  },
  {
   "cell_type": "code",
   "execution_count": null,
   "id": "54bba109",
   "metadata": {},
   "outputs": [],
   "source": []
  },
  {
   "cell_type": "code",
   "execution_count": null,
   "id": "f4a024ba",
   "metadata": {},
   "outputs": [],
   "source": []
  },
  {
   "cell_type": "code",
   "execution_count": null,
   "id": "7c21406e",
   "metadata": {},
   "outputs": [],
   "source": []
  }
 ],
 "metadata": {
  "kernelspec": {
   "display_name": "Python 3 (ipykernel)",
   "language": "python",
   "name": "python3"
  },
  "language_info": {
   "codemirror_mode": {
    "name": "ipython",
    "version": 3
   },
   "file_extension": ".py",
   "mimetype": "text/x-python",
   "name": "python",
   "nbconvert_exporter": "python",
   "pygments_lexer": "ipython3",
   "version": "3.10.9"
  }
 },
 "nbformat": 4,
 "nbformat_minor": 5
}
